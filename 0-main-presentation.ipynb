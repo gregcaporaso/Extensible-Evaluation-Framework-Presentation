{
 "metadata": {
  "name": ""
 },
 "nbformat": 3,
 "nbformat_minor": 0,
 "worksheets": [
  {
   "cells": [
    {
     "cell_type": "heading",
     "level": 1,
     "metadata": {},
     "source": [
      "An extensible framework for optimizing taxonomic classification of marker gene reads"
     ]
    },
    {
     "cell_type": "markdown",
     "metadata": {},
     "source": [
      "The problems\n",
      "------------\n",
      "\n",
      "**Taxonomic assignment of marker gene reads**\n",
      "\n",
      "* Given a short, possibly error-containing, read of a marker gene, **determine the taxonomy of the organism from which that gene was derived** with the greatest taxonomic specificity.\n",
      "\n",
      "\n",
      "* Accurate and specific taxonomic assignment of these reads is **essential for many (but not all!) aspects of human microbiome science**, but currently used methods have not been optimized on \"modern\" data sets (e.g., short Illumina reads).\n",
      " \n",
      "___________________\n",
      "\n",
      "**Lack of evaluation standards for taxonomic assignment (and more generally, bioinformatics) methods comparisons**\n",
      " \n",
      "\n",
      "* Introducing a new taxonomic assignment method requires performance benchmarking against pre-existing methods\n",
      "    * is it at least as good as other methods but more computationally efficient (e.g., faster and/or smaller memory requirements)?\n",
      "    * is it better than other methods (e.g., more specific taxonomic assignments and/or more sequences accurately classified)?\n",
      "    * both?\n",
      "\n",
      "\n",
      "* When comparing a new method to existing methods, developers must:\n",
      "    * spend time identifying and obtaining test data sets\n",
      "    * developing an evaluation frameworks (which sometimes leave out important comparisons)\n",
      "    * obtaining and installing pre-existing taxonomic assignment software\n",
      "    * determining the parameters they should benchmark against in the pre-existing taxonomic assignment software (which sometimes leaves out important parameter combinations)\n",
      "\n",
      "___________________\n",
      "\n",
      "**We need a standardized and extensible evaluation framework for taxonomic assignment methods, and standard and extensible evaluations need to be the standard for bioinformatics methods evaluations.**\n"
     ]
    },
    {
     "cell_type": "markdown",
     "metadata": {},
     "source": [
      "What does it mean for a taxonomic assignment evaluation framework to be standardized and extensible?\n",
      "----------------------------------------------------------------------------------------------------\n",
      "\n",
      "**Standardized**\n",
      "\n",
      "* consistent and appropriate set of metrics, defined in the same way (e.g., specificity, sensitivity, accuracy)\n",
      "* consistent and appropriate set of data sets \n",
      "\n",
      "*An important concern here is over-fitting. We'll come back to that.*\n",
      "\n",
      "**Extensible**: beyond the initial presentation, it's easy for *users* (not only the initial developers!) to:\n",
      "\n",
      "* add new methods\n",
      "* add new reference databases\n",
      "* add new data sets and metrics (this one is a little harder in our framework)\n",
      "\n"
     ]
    },
    {
     "cell_type": "markdown",
     "metadata": {},
     "source": [
      "Toward a standardized and extensible framework for taxonomic assignment evaluation\n",
      "----------------------------------------------------------------------------------\n",
      "\n",
      "**Three core evaluations**\n",
      "\n",
      "1. **Precision, recall and F-measure**: a qualitative compositional analysis against mock communities.\n",
      "\n",
      "    At a given taxonomic level, an assignment is a:\n",
      "\n",
      "    * true positive ($TP$), if that taxonomic assignment is present in the results and in the mock community\n",
      "    * false positive ($FP$), if that taxonomic assignment is present in the results, but is not present in the mock community\n",
      "    * false negative ($FN$), if a taxonomic assignment is not present in the results, but is present the mock community\n",
      "    * true negative ($TN$), if a taxonomic assignment is not present in the results, and is not present the mock community\n",
      "\n",
      "    $ precision = \\dfrac{TP}{TP + FP} $ or the fraction of taxonomic assignments that actually members of the mock community\n",
      "    \n",
      "    $ recall = \\dfrac{TP}{TP + FN} $  or the fraction of the mock community members that were observed in the results\n",
      "\n",
      "2. **Pearson/Spearman correlation**: a quantitative compositional analysis against mock communities.\n",
      "\n",
      "    At a given taxonomic level, compute the correlation between the relative abundances of the taxa as predicted by the taxonomy assigner, and the known community compositions.\n",
      "\n",
      "3. **Correlation of distances between communities based on taxonomic composition and taxonomy-free OTU composition.**\n",
      "\n",
      "    At a given taxonomic level, collapse OTUs by their taxonomic assignments and compute the Bray-Curtis distances between the samples. Compare the resulting Bray-Curtis distance matrix to the UniFrac distance matrix generated based on the uncollapsed (i.e., taxonomy-free) OTUs."
     ]
    },
    {
     "cell_type": "markdown",
     "metadata": {},
     "source": [
      "Evaluation framework workflow\n",
      "-----------------------------\n",
      "\n",
      "<div style=\"float: right; margin-left: 30px;\"><img style=\"float: right; margin-left: 30px;\" src=\"files/Figure1.1.png\" align=right></div>\n",
      "\n",
      "**Data is stored in a public GitHub repository.**\n",
      "\n",
      "--------------------\n",
      "\n",
      "This includes input data:\n",
      "\n",
      "* Fasta-formatted sequence data for all analysis data sets.\n",
      "* BIOM-formatted OTU tables, with no taxonomy metadata, for all analysis data sets.\n",
      "\n",
      "Expected results:\n",
      "\n",
      "* Known compositions of mock communities.\n",
      "* Taxonomy-free UniFrac distance matrices and PCoA matrices for for natural communities.\n",
      "\n",
      "And pre-computed results for other methods:\n",
      "\n",
      "* BIOM-formatted OTU tables, with taxonomy metadata, for all methods that have previously been analyzed with the framework."
     ]
    },
    {
     "cell_type": "markdown",
     "metadata": {},
     "source": [
      "<div style=\"float: right; margin-left: 30px;\"><img style=\"float: right; margin-left: 30px;\" src=\"files/Figure1.2.png\" align=right></div>\n",
      "\n",
      "**The developer of a new method can apply that method to the input data.**\n",
      "\n",
      "----------------\n",
      "\n",
      "Instructions are included for applying the method to new data, and formatting output to be plugged into evaluation framework.\n",
      "\n",
      "The developer's output will be BIOM tables with their method's taxonomic assignments added. These are indentical in format to pre-computed result BIOM tables in the GitHub repository."
     ]
    },
    {
     "cell_type": "markdown",
     "metadata": {},
     "source": [
      "<div style=\"float: right; margin-left: 30px;\"><img style=\"float: right; margin-left: 30px;\" src=\"files/Figure1.3.png\" align=right></div>\n",
      "\n",
      "**The developer's BIOM tables can be analyzed in the evaluation framework.**\n",
      "\n",
      "----------------\n",
      "\n",
      "The evaluation framework is a pair of IPython Notebooks, which currerntly must be executed locally. \n",
      "\n",
      "We are investigating other strategies, such as using Google App Engine, to support remote execution of these notebooks which will avoid the need for local installation (which is not difficult, but is an unnecessary barrier to use)."
     ]
    },
    {
     "cell_type": "markdown",
     "metadata": {},
     "source": [
      "<div style=\"float: right; margin-left: 30px;\"><img style=\"float: right; margin-left: 30px;\" src=\"files/Figure1.4.png\" align=right></div>\n",
      "\n",
      "**The evaluation framework automatically includes the pre-computed results.**\n",
      "\n",
      "----------------\n",
      "\n",
      "The developer can then immediately determine how their method compares to pre-existing methods. \n",
      "\n",
      "All metrics described above are applied, and the result is an IPython Notebook-based summary of the methods, including figures and tables comparing all methods. All analysis results, in the form of raw data, are easily extractable for further analysis."
     ]
    },
    {
     "cell_type": "markdown",
     "metadata": {},
     "source": [
      "<div style=\"float: right; margin-left: 30px;\"><img style=\"float: right; margin-left: 30px;\" src=\"files/Figure1.5.png\" align=right></div>\n",
      "\n",
      "**At this stage, the developer can make a decision about how to proceed.**\n",
      "\n",
      "------------------\n",
      "\n",
      "The developer now knows how their method compares to pre-existing methods. There are a few possible outcomes:\n",
      "\n",
      "* **The new method out-performs pre-exisiting methods on one or more evaluations.** The author should proceed with **publishing their method**, and the notebooks generated by this framework can be included as supporting data in that publication (these are open access, so there are no expectations that the authors of the evaluation framework would be included or acknowledged in that publication). The author should also at this stage **submit a pull request including their best BIOM tables** to the evaluation framework GitHub repository. This will result in their method being included as a pre-existing method in future runs of the evaluation framework. By submitting a pull request that is merged, the author will automatically be listed as a contributor to the evaluation framework project.\n",
      "\n",
      "\n",
      "* **The new method performs worse than pre-existing methods.** The author should optimize or abandon their method.\n",
      "\n",
      "\n",
      "* **The new method perfors worse than pre-existing methods, but the author suspects that the analyses were insufficient.** At this stage the author has the result of all of the pre-existing methods, and all raw test data, so it is convenient to explore other evaluations. If these evaluations prove useful, the author can submit that code as a pull request to be included in the evaluation framework. The authors updated methods and results can be presented in their publication of the method, and future users of the evaluation framework will have access to those methods. By submitting a pull request that is merged, the author will automatically be listed as a contributor to the evaluation framework project.\n",
      "\n",
      "\n",
      "\n",
      "\n",
      "\n"
     ]
    },
    {
     "cell_type": "heading",
     "level": 2,
     "metadata": {},
     "source": [
      "Example analysis results"
     ]
    },
    {
     "cell_type": "markdown",
     "metadata": {},
     "source": [
      "**To illustrate the utility of this evaluation framework, we developed new alignment-based taxonomy assigners based on [uclust](http://drive5.com/usearch/manual/uclust_algo.html) and [usearch](http://www.drive5.com/usearch/)**. These methods query an OTU representative sequence against a user-specified reference database, using either uclust or usearch, and return the top $n$ hits. Of these top hits, the most specific taxonomy assignment that is shared by at least $p$ percent of the hits is assigned to OTU.\n",
      "\n",
      "[This notebook is viewable on nbviewer.](http://nbviewer.ipython.org/urls/gist.githubusercontent.com/gregcaporaso/4859f989a3ecbbad2635/raw/8b377f6fa4a86946980d22de87facb3f67fd89a1/1-evaluation-framework-results.ipynb?create=1)\n",
      "\n",
      "In this evalution, we found that our uclust-based taxonomy assigner method runs approximately 1000x faster than some of the popular methods that we compared it against, while achieving twice the precision for genus-level assignments. "
     ]
    },
    {
     "cell_type": "markdown",
     "metadata": {},
     "source": [
      "Avoiding \"over-fitting\" (or systematically leaving out important test data sets or metrics)\n",
      "-------------------------------------------------------------------------------------------\n",
      "\n",
      "It is not possible to develop a completely comprehensive collection of test data sets and metrics. Just as users can submit results generated by new methods, **users can submit pull requests containing new test data sets and evaluation metrics**. These currently involve more work to integrate (because pre-existing methods must be re-run), but we are working on simplifying that. "
     ]
    },
    {
     "cell_type": "markdown",
     "metadata": {},
     "source": [
      "Next steps\n",
      "----------\n",
      "\n",
      "* **Avoid users having to install the framework locally.** We are investigating Google App Engine and other solutions for hosting this framework as a server. \n",
      "\n",
      "\n",
      "* **Provide instructions for submitting new metrics and test data sets.** This is more complex, as it will involve re-running the pre-existing methods.\n",
      "\n",
      "\n",
      "* **Provide support for including new reference databases.** Just as new methods can be compared, this framework also supports the inclusion of new reference databases. If there is sufficient interest, e.g., using the framework to investigate incremental changes to marker gene reference databases and taxonomy, we will simplify this. \n",
      "\n",
      "* **We are in the process of investaging other strategies for taxonomic assignment using this framework**, including an [infernal](http://infernal.janelia.org/)-based assigner, and a [scikit-learn](http://scikit-learn.org/stable/)-based Naive Bayesian classifier. "
     ]
    },
    {
     "cell_type": "markdown",
     "metadata": {},
     "source": [
      "Acknowledgements\n",
      "----------------\n",
      "Slides by [Greg Caporaso](http://www.caporasolab.us) and [Rob Knight](https://knightlab.colorado.edu/)\n",
      "\n",
      "Corresponding author: gregcaporaso@gmail.com\n",
      "\n",
      "*An extensible framework for optimizing classification enhances short-amplicon taxonomic assignments.*\n",
      "\n",
      "Nicholas A. Bokulich$^{*}$, Jai Ram Rideout$^{*}$, Kyle Patnode, Zack Ellett, Daniel McDonald, Benjamin Wolfe, Corinne F. Maurice, Rachel J. Dutton, Peter J. Turnbaugh, Rob Knight, J. Gregory Caporaso.\n",
      "\n",
      "Manuscript in preparation.\n",
      "\n",
      "$^{*}$ These authors contributed equally."
     ]
    }
   ],
   "metadata": {}
  }
 ]
}