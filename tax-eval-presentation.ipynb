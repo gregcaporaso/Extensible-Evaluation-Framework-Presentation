{
 "metadata": {
  "name": ""
 },
 "nbformat": 3,
 "nbformat_minor": 0,
 "worksheets": [
  {
   "cells": [
    {
     "cell_type": "heading",
     "level": 1,
     "metadata": {},
     "source": [
      "An extensible framework for optimizing taxonomic classification of marker gene reads"
     ]
    },
    {
     "cell_type": "markdown",
     "metadata": {},
     "source": [
      "The problems\n",
      "------------\n",
      "\n",
      "**Taxonomic assignment of marker gene reads**\n",
      "\n",
      "* Given a short, possibly error-containing, read of a marker gene, **determine the taxonomy of the organism from which that gene was derived** with the greatest taxonomic specificity.\n",
      "\n",
      "\n",
      "* Accurate and specific taxonomic assignment of these reads is **essential for many (but not all!) aspects of human microbiome science**, but currently used methods have not been optimized on \"modern\" data sets (e.g., short Illumina reads).\n",
      " \n",
      "___________________\n",
      "\n",
      "**Lack of evaluation standards for taxonomic assignment (and more generally, bioinformatics) methods comparisons**\n",
      " \n",
      "\n",
      "* Introducing a new taxonomic assignment method requires performance benchmarking against pre-existing methods\n",
      "    * is it at least as good as other methods but more computationally efficient (e.g., faster and/or smaller memory requirements)?\n",
      "    * is it better than other methods (e.g., more specific taxonomic assignments and/or more sequences accurately classified)?\n",
      "    * both?\n",
      "\n",
      "\n",
      "* When comparing a new method to existing methods, developers must:\n",
      "    * spend time identifying and obtaining test data sets\n",
      "    * developing an evaluation frameworks (which sometimes leave out important comparisons)\n",
      "    * obtaining and installing pre-existing taxonomic assignment software\n",
      "    * determining the parameters they should benchmark against in the pre-existing taxonomic assignment software (which sometimes leaves out important parameter combinations)\n",
      "\n",
      "___________________\n",
      "\n",
      "**We need a standardized and extensible evaluation framework for taxonomic assignment methods, and standard and extensible evaluations need to be the standard for bioinformatics methods evaluations.**\n"
     ]
    },
    {
     "cell_type": "markdown",
     "metadata": {},
     "source": [
      "What does it mean for a taxonomic assignment evaluation framework to be standardized and extensible?\n",
      "----------------------------------------------------------------------------------------------------\n",
      "\n",
      "**Standardized**\n",
      "\n",
      "* consistent and appropriate set of metrics, defined in the same way (e.g., specificity, sensitivity, accuracy)\n",
      "* consistent and appropriate set of data sets \n",
      "\n",
      "*An important concern here is over-fitting. We'll come back to that.*\n",
      "\n",
      "**Extensible**: beyond the initial presentation, it's easy for *users* (not only the initial developers!) to:\n",
      "\n",
      "* add new methods\n",
      "* add new reference databases\n",
      "* add new data sets and metrics (this one is a little harder in our framework)\n",
      "\n"
     ]
    },
    {
     "cell_type": "markdown",
     "metadata": {},
     "source": [
      "Toward a standardized and extensible framework for taxonomic assignment evaluation\n",
      "----------------------------------------------------------------------------------\n",
      "\n",
      "**Three core evaluations**\n",
      "\n",
      "1. Precision, recall and F-measure: a qualitative compositional analysis against mock communities.\n",
      "\n",
      "    At a given taxonomic level, an assignment is a:\n",
      "\n",
      "    * true positive ($TP$), if that taxonomic assignment is present in the results and in the mock community\n",
      "    * false positive ($FP$), if that taxonomic assignment is present in the results, but is not present in the mock community\n",
      "    * false negative ($FN$), if a taxonomic assignment is not present in the results, but is present the mock community\n",
      "    * true negative ($TN$), if a taxonomic assignment is not present in the results, and is not present the mock community\n",
      "\n",
      "    $ precision = \\dfrac{TP}{TP + FP} $ or the fraction of taxonomic assignments that actually members of the mock community\n",
      "    \n",
      "    $ recall = \\dfrac{TP}{TP + FN} $  or the fraction of the mock community members that were observed in the results\n",
      "\n",
      "2. Pearson/Spearman correlation: a quantitative compositional analysis against mock communities.\n",
      "\n",
      "    At a given taxonomic level, compute the correlation between the relative abundances of the observed taxa and the known community compositions.\n",
      "\n",
      "3. Correlation of distances between communities based on taxonomic composition and taxonomy-free OTU composition. "
     ]
    },
    {
     "cell_type": "markdown",
     "metadata": {},
     "source": [
      "Avoiding \"over-fitting\" (or systematically leaving out important test data sets or metrics)\n",
      "-------------------------------------------------------------------------------------------"
     ]
    },
    {
     "cell_type": "markdown",
     "metadata": {},
     "source": [
      "Next steps\n",
      "----------\n",
      "\n",
      "Avoid users having to install the framework locally. We are investigating Google App Engine and other solutions for hosting this framework as a server. "
     ]
    },
    {
     "cell_type": "markdown",
     "metadata": {},
     "source": [
      "Acknowledgements\n",
      "----------------\n",
      "Slides by [Greg Caporaso](http://www.caporasolab.us) and [Rob Knight](https://knightlab.colorado.edu/)\n",
      "\n",
      "Corresponding author: gregcaporaso@gmail.com\n",
      "\n",
      "*An extensible framework for optimizing classification enhances short-amplicon taxonomic assignments*\n",
      "Nicholas A. Bokulich*, Jai Ram Rideout*, Kyle Patnode, Zack Ellett, Daniel McDonald, Benjamin Wolfe, Corinne F. Maurice, Rachel J. Dutton, Peter J. Turnbaugh, Rob Knight, J. Gregory Caporaso.\n",
      "Manuscript in preparation"
     ]
    }
   ],
   "metadata": {}
  }
 ]
}